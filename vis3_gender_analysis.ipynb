{
 "cells": [
  {
   "cell_type": "markdown",
   "id": "7903e091",
   "metadata": {},
   "source": [
    "# Baby Names in France – Visualization 3: Gender-Based Name Evolution\n",
    "This notebook focuses on analyzing the **gender effects** in baby naming trends in France from 1900 to 2020. We particularly explore whether endings of names (the last letter) correlate with gender preferences over time."
   ]
  },
  {
   "cell_type": "markdown",
   "id": "105a4221",
   "metadata": {},
   "source": [
    "## Setup: Install and Import Required Libraries"
   ]
  },
  {
   "cell_type": "code",
   "execution_count": 1,
   "id": "604995cc",
   "metadata": {},
   "outputs": [
    {
     "name": "stdout",
     "output_type": "stream",
     "text": [
      "Requirement already satisfied: altair in ./.venv/lib/python3.12/site-packages (5.5.0)\n",
      "Requirement already satisfied: pandas in ./.venv/lib/python3.12/site-packages (2.3.0)\n",
      "Requirement already satisfied: numpy in ./.venv/lib/python3.12/site-packages (2.3.0)\n",
      "Requirement already satisfied: plotly in ./.venv/lib/python3.12/site-packages (6.1.2)\n",
      "Requirement already satisfied: jinja2 in ./.venv/lib/python3.12/site-packages (from altair) (3.1.6)\n",
      "Requirement already satisfied: jsonschema>=3.0 in ./.venv/lib/python3.12/site-packages (from altair) (4.24.0)\n",
      "Requirement already satisfied: narwhals>=1.14.2 in ./.venv/lib/python3.12/site-packages (from altair) (1.43.1)\n",
      "Requirement already satisfied: packaging in ./.venv/lib/python3.12/site-packages (from altair) (25.0)\n",
      "Requirement already satisfied: typing-extensions>=4.10.0 in ./.venv/lib/python3.12/site-packages (from altair) (4.14.0)\n",
      "Requirement already satisfied: python-dateutil>=2.8.2 in ./.venv/lib/python3.12/site-packages (from pandas) (2.9.0.post0)\n",
      "Requirement already satisfied: pytz>=2020.1 in ./.venv/lib/python3.12/site-packages (from pandas) (2025.2)\n",
      "Requirement already satisfied: tzdata>=2022.7 in ./.venv/lib/python3.12/site-packages (from pandas) (2025.2)\n",
      "Requirement already satisfied: attrs>=22.2.0 in ./.venv/lib/python3.12/site-packages (from jsonschema>=3.0->altair) (25.3.0)\n",
      "Requirement already satisfied: jsonschema-specifications>=2023.03.6 in ./.venv/lib/python3.12/site-packages (from jsonschema>=3.0->altair) (2025.4.1)\n",
      "Requirement already satisfied: referencing>=0.28.4 in ./.venv/lib/python3.12/site-packages (from jsonschema>=3.0->altair) (0.36.2)\n",
      "Requirement already satisfied: rpds-py>=0.7.1 in ./.venv/lib/python3.12/site-packages (from jsonschema>=3.0->altair) (0.25.1)\n",
      "Requirement already satisfied: six>=1.5 in ./.venv/lib/python3.12/site-packages (from python-dateutil>=2.8.2->pandas) (1.17.0)\n",
      "Requirement already satisfied: MarkupSafe>=2.0 in ./.venv/lib/python3.12/site-packages (from jinja2->altair) (3.0.2)\n",
      "Note: you may need to restart the kernel to use updated packages.\n"
     ]
    }
   ],
   "source": [
    "%pip install altair pandas numpy plotly"
   ]
  },
  {
   "cell_type": "code",
   "execution_count": 2,
   "id": "af80f5d7",
   "metadata": {},
   "outputs": [
    {
     "data": {
      "text/plain": [
       "DataTransformerRegistry.enable('json')"
      ]
     },
     "execution_count": 2,
     "metadata": {},
     "output_type": "execute_result"
    }
   ],
   "source": [
    "import altair as alt\n",
    "alt.data_transformers.enable('json')"
   ]
  },
  {
   "cell_type": "code",
   "execution_count": 3,
   "id": "ae847e74",
   "metadata": {},
   "outputs": [],
   "source": [
    "# Basic imports\n",
    "import pandas as pd\n",
    "import numpy as np\n",
    "import plotly.graph_objs as go"
   ]
  },
  {
   "cell_type": "markdown",
   "id": "369cc44a",
   "metadata": {},
   "source": [
    "## Data Loading"
   ]
  },
  {
   "cell_type": "code",
   "execution_count": 4,
   "id": "42601d91",
   "metadata": {},
   "outputs": [
    {
     "name": "stdout",
     "output_type": "stream",
     "text": [
      "'2A' present? False\n",
      "'2B' present? False\n"
     ]
    }
   ],
   "source": [
    "df = pd.read_csv(\"data/dpt2020.csv\", sep=\";\")\n",
    "\n",
    "# Check if Corsican departments are present\n",
    "print(\"'2A' present?\", '2A' in df['dpt'].unique())\n",
    "print(\"'2B' present?\", '2B' in df['dpt'].unique())"
   ]
  },
  {
   "cell_type": "markdown",
   "id": "a1a0b808",
   "metadata": {},
   "source": [
    "## Data Cleaning"
   ]
  },
  {
   "cell_type": "code",
   "execution_count": 5,
   "id": "88d03bbf",
   "metadata": {},
   "outputs": [
    {
     "name": "stdout",
     "output_type": "stream",
     "text": [
      "Initial shape is (3727553, 5)\n",
      "int64\n",
      "Shape is now (3690309, 5)\n",
      "string\n",
      "Shape is now (3492154, 5)\n"
     ]
    }
   ],
   "source": [
    "print(f\"Initial shape is {df.shape}\")\n",
    "\n",
    "# Keep only rows where 'annais' and 'dpt' are strictly numeric (or well-formed)\n",
    "to_clean = ['annais', 'dpt']\n",
    "for col in to_clean:\n",
    "    df = df[df[col].str.isnumeric()]\n",
    "\n",
    "    if col == 'annais':\n",
    "        df[col] = df[col].astype(int)\n",
    "    else:\n",
    "        df[col] = df[col].astype(\"string\")\n",
    "        df.loc[df['dpt'] == '20', 'dpt'] = '2A'  # Normalize Corsican code\n",
    "        df = df[~df['dpt'].isin(['971', '972', '973', '974'])]  # Exclude DOM-TOM\n",
    "\n",
    "    print(df[col].dtype)\n",
    "    print(f\"Shape is now {df.shape}\")"
   ]
  },
  {
   "cell_type": "markdown",
   "id": "bfcb7a2c",
   "metadata": {},
   "source": [
    "## Name Cleaning and Feature Engineering"
   ]
  },
  {
   "cell_type": "code",
   "execution_count": 6,
   "id": "7bd33b3d",
   "metadata": {},
   "outputs": [
    {
     "name": "stdout",
     "output_type": "stream",
     "text": [
      "Shape is now (3471072, 6)\n"
     ]
    }
   ],
   "source": [
    "# Remove rare/aggregate names\n",
    "df = df[df[\"preusuel\"] != \"_PRENOMS_RARES\"]\n",
    "# Add name length\n",
    "df[\"longueur\"] = df[\"preusuel\"].str.len()\n",
    "# Remove single-letter names\n",
    "df = df[df[\"longueur\"] > 1]\n",
    "print(f\"Shape is now {df.shape}\")"
   ]
  },
  {
   "cell_type": "code",
   "execution_count": 7,
   "id": "252ed0bd",
   "metadata": {},
   "outputs": [
    {
     "data": {
      "text/html": [
       "<div>\n",
       "<style scoped>\n",
       "    .dataframe tbody tr th:only-of-type {\n",
       "        vertical-align: middle;\n",
       "    }\n",
       "\n",
       "    .dataframe tbody tr th {\n",
       "        vertical-align: top;\n",
       "    }\n",
       "\n",
       "    .dataframe thead th {\n",
       "        text-align: right;\n",
       "    }\n",
       "</style>\n",
       "<table border=\"1\" class=\"dataframe\">\n",
       "  <thead>\n",
       "    <tr style=\"text-align: right;\">\n",
       "      <th></th>\n",
       "      <th>sexe</th>\n",
       "      <th>preusuel</th>\n",
       "      <th>annais</th>\n",
       "      <th>dpt</th>\n",
       "      <th>nombre</th>\n",
       "      <th>longueur</th>\n",
       "    </tr>\n",
       "  </thead>\n",
       "  <tbody>\n",
       "    <tr>\n",
       "      <th>10885</th>\n",
       "      <td>1</td>\n",
       "      <td>AADIL</td>\n",
       "      <td>1983</td>\n",
       "      <td>84</td>\n",
       "      <td>3</td>\n",
       "      <td>5</td>\n",
       "    </tr>\n",
       "    <tr>\n",
       "      <th>10886</th>\n",
       "      <td>1</td>\n",
       "      <td>AADIL</td>\n",
       "      <td>1992</td>\n",
       "      <td>92</td>\n",
       "      <td>3</td>\n",
       "      <td>5</td>\n",
       "    </tr>\n",
       "    <tr>\n",
       "      <th>10888</th>\n",
       "      <td>1</td>\n",
       "      <td>AAHIL</td>\n",
       "      <td>2016</td>\n",
       "      <td>95</td>\n",
       "      <td>3</td>\n",
       "      <td>5</td>\n",
       "    </tr>\n",
       "    <tr>\n",
       "      <th>10892</th>\n",
       "      <td>1</td>\n",
       "      <td>AARON</td>\n",
       "      <td>1962</td>\n",
       "      <td>75</td>\n",
       "      <td>3</td>\n",
       "      <td>5</td>\n",
       "    </tr>\n",
       "    <tr>\n",
       "      <th>10893</th>\n",
       "      <td>1</td>\n",
       "      <td>AARON</td>\n",
       "      <td>1976</td>\n",
       "      <td>75</td>\n",
       "      <td>3</td>\n",
       "      <td>5</td>\n",
       "    </tr>\n",
       "  </tbody>\n",
       "</table>\n",
       "</div>"
      ],
      "text/plain": [
       "       sexe preusuel  annais dpt  nombre  longueur\n",
       "10885     1    AADIL    1983  84       3         5\n",
       "10886     1    AADIL    1992  92       3         5\n",
       "10888     1    AAHIL    2016  95       3         5\n",
       "10892     1    AARON    1962  75       3         5\n",
       "10893     1    AARON    1976  75       3         5"
      ]
     },
     "execution_count": 7,
     "metadata": {},
     "output_type": "execute_result"
    }
   ],
   "source": [
    "df.head()"
   ]
  },
  {
   "cell_type": "markdown",
   "id": "43f2283b",
   "metadata": {},
   "source": [
    "## Extract Last Letter of Each Name"
   ]
  },
  {
   "cell_type": "code",
   "execution_count": 8,
   "id": "9d8e435f",
   "metadata": {},
   "outputs": [],
   "source": [
    "df['fin'] = df['preusuel'].str[-1].str.lower()"
   ]
  },
  {
   "cell_type": "markdown",
   "id": "f84c9ff6",
   "metadata": {},
   "source": [
    "## Prepare Data for Pie Chart"
   ]
  },
  {
   "cell_type": "code",
   "execution_count": 9,
   "id": "62d22e35",
   "metadata": {},
   "outputs": [],
   "source": [
    "# Aggregate by year and final letter\n",
    "df_pie = df.groupby(['annais', 'fin'])['nombre'].sum().reset_index()"
   ]
  },
  {
   "cell_type": "code",
   "execution_count": 10,
   "id": "e8ab4ee8",
   "metadata": {},
   "outputs": [
    {
     "name": "stdout",
     "output_type": "stream",
     "text": [
      "['a', 'b', 'c', 'd', 'e', 'f', 'g', 'h', 'i', 'j', 'k', 'l', 'm', 'n', 'o', 'p', 'q', 'r', 's', 't', 'u', 'v', 'w', 'x', 'y', 'z', 'â', 'ç', 'é', 'ë', 'ï']\n"
     ]
    }
   ],
   "source": [
    "print(sorted(df['fin'].unique()))"
   ]
  },
  {
   "cell_type": "markdown",
   "id": "326a6507",
   "metadata": {},
   "source": [
    "## Function to Aggregate Top 10 Terminations"
   ]
  },
  {
   "cell_type": "code",
   "execution_count": 11,
   "id": "3909ede2",
   "metadata": {},
   "outputs": [],
   "source": [
    "def top10_terminaisons(df_pie, annee):\n",
    "    data_annee = df_pie[df_pie['annais'] == annee].copy()\n",
    "    top5 = data_annee.nlargest(10, 'nombre')\n",
    "    autres = data_annee[~data_annee['fin'].isin(top5['fin'])]\n",
    "    autres_sum = autres['nombre'].sum()\n",
    "    if autres_sum > 0:\n",
    "        autres_row = pd.DataFrame([{\n",
    "            'annais': annee,\n",
    "            'fin': 'autres',\n",
    "            'nombre': autres_sum\n",
    "        }])\n",
    "        top10 = pd.concat([top5, autres_row], ignore_index=True)\n",
    "    return top10"
   ]
  },
  {
   "cell_type": "markdown",
   "id": "af8101ff",
   "metadata": {},
   "source": [
    "## Interactive Visualization: Name Terminations Over Time"
   ]
  },
  {
   "cell_type": "code",
   "execution_count": 12,
   "id": "7b3d1b1c",
   "metadata": {},
   "outputs": [
    {
     "data": {
      "text/html": [
       "\n",
       "<style>\n",
       "  #altair-viz-b94be031a4c14ae3ba02f95ce494c097.vega-embed {\n",
       "    width: 100%;\n",
       "    display: flex;\n",
       "  }\n",
       "\n",
       "  #altair-viz-b94be031a4c14ae3ba02f95ce494c097.vega-embed details,\n",
       "  #altair-viz-b94be031a4c14ae3ba02f95ce494c097.vega-embed details summary {\n",
       "    position: relative;\n",
       "  }\n",
       "</style>\n",
       "<div id=\"altair-viz-b94be031a4c14ae3ba02f95ce494c097\"></div>\n",
       "<script type=\"text/javascript\">\n",
       "  var VEGA_DEBUG = (typeof VEGA_DEBUG == \"undefined\") ? {} : VEGA_DEBUG;\n",
       "  (function(spec, embedOpt){\n",
       "    let outputDiv = document.currentScript.previousElementSibling;\n",
       "    if (outputDiv.id !== \"altair-viz-b94be031a4c14ae3ba02f95ce494c097\") {\n",
       "      outputDiv = document.getElementById(\"altair-viz-b94be031a4c14ae3ba02f95ce494c097\");\n",
       "    }\n",
       "\n",
       "    const paths = {\n",
       "      \"vega\": \"https://cdn.jsdelivr.net/npm/vega@5?noext\",\n",
       "      \"vega-lib\": \"https://cdn.jsdelivr.net/npm/vega-lib?noext\",\n",
       "      \"vega-lite\": \"https://cdn.jsdelivr.net/npm/vega-lite@5.20.1?noext\",\n",
       "      \"vega-embed\": \"https://cdn.jsdelivr.net/npm/vega-embed@6?noext\",\n",
       "    };\n",
       "\n",
       "    function maybeLoadScript(lib, version) {\n",
       "      var key = `${lib.replace(\"-\", \"\")}_version`;\n",
       "      return (VEGA_DEBUG[key] == version) ?\n",
       "        Promise.resolve(paths[lib]) :\n",
       "        new Promise(function(resolve, reject) {\n",
       "          var s = document.createElement('script');\n",
       "          document.getElementsByTagName(\"head\")[0].appendChild(s);\n",
       "          s.async = true;\n",
       "          s.onload = () => {\n",
       "            VEGA_DEBUG[key] = version;\n",
       "            return resolve(paths[lib]);\n",
       "          };\n",
       "          s.onerror = () => reject(`Error loading script: ${paths[lib]}`);\n",
       "          s.src = paths[lib];\n",
       "        });\n",
       "    }\n",
       "\n",
       "    function showError(err) {\n",
       "      outputDiv.innerHTML = `<div class=\"error\" style=\"color:red;\">${err}</div>`;\n",
       "      throw err;\n",
       "    }\n",
       "\n",
       "    function displayChart(vegaEmbed) {\n",
       "      vegaEmbed(outputDiv, spec, embedOpt)\n",
       "        .catch(err => showError(`Javascript Error: ${err.message}<br>This usually means there's a typo in your chart specification. See the javascript console for the full traceback.`));\n",
       "    }\n",
       "\n",
       "    if(typeof define === \"function\" && define.amd) {\n",
       "      requirejs.config({paths});\n",
       "      let deps = [\"vega-embed\"];\n",
       "      require(deps, displayChart, err => showError(`Error loading script: ${err.message}`));\n",
       "    } else {\n",
       "      maybeLoadScript(\"vega\", \"5\")\n",
       "        .then(() => maybeLoadScript(\"vega-lite\", \"5.20.1\"))\n",
       "        .then(() => maybeLoadScript(\"vega-embed\", \"6\"))\n",
       "        .catch(showError)\n",
       "        .then(() => displayChart(vegaEmbed));\n",
       "    }\n",
       "  })({\"config\": {\"view\": {\"continuousWidth\": 300, \"continuousHeight\": 300}}, \"data\": {\"url\": \"altair-data-43878c538c1bfea4ff1243f42bf79efa.json\", \"format\": {\"type\": \"json\"}}, \"mark\": {\"type\": \"arc\"}, \"encoding\": {\"color\": {\"field\": \"fin_affiche\", \"sort\": {\"field\": \"nombre\", \"op\": \"sum\", \"order\": \"descending\"}, \"title\": \"Terminaison\", \"type\": \"nominal\"}, \"theta\": {\"field\": \"nombre\", \"stack\": true, \"type\": \"quantitative\"}, \"tooltip\": [{\"field\": \"fin_affiche\", \"type\": \"nominal\"}, {\"field\": \"nombre\", \"type\": \"quantitative\"}]}, \"params\": [{\"name\": \"ann\\u00e9e\", \"bind\": {\"input\": \"range\", \"max\": 2020.0, \"min\": 1900.0, \"name\": \"Ann\\u00e9e :\", \"step\": 1}, \"value\": 1900.0}], \"title\": \"R\\u00e9partition des pr\\u00e9noms selon leur terminaison (top 10, autres regroup\\u00e9s)\", \"transform\": [{\"filter\": \"(datum.annais === ann\\u00e9e)\"}, {\"window\": [{\"op\": \"rank\", \"field\": \"nombre\", \"as\": \"rank\"}], \"sort\": [{\"field\": \"nombre\", \"order\": \"descending\"}]}, {\"calculate\": \"datum.rank <= 10 ? datum.fin : 'autres'\", \"as\": \"fin_affiche\"}, {\"aggregate\": [{\"op\": \"sum\", \"field\": \"nombre\", \"as\": \"nombre\"}], \"groupby\": [\"fin_affiche\"]}, {\"window\": [{\"op\": \"rank\", \"field\": \"-datum.nombre\", \"as\": \"order_rank\"}], \"sort\": [{\"field\": \"nombre\", \"order\": \"descending\"}]}], \"$schema\": \"https://vega.github.io/schema/vega-lite/v5.20.1.json\"}, {\"mode\": \"vega-lite\"});\n",
       "</script>"
      ],
      "text/plain": [
       "alt.Chart(...)"
      ]
     },
     "execution_count": 12,
     "metadata": {},
     "output_type": "execute_result"
    }
   ],
   "source": [
    "annee_slider = alt.binding_range(\n",
    "    min=df_pie['annais'].min(),\n",
    "    max=df_pie['annais'].max(),\n",
    "    step=1,\n",
    "    name=\"Année :\"\n",
    ")\n",
    "annee_param = alt.param(\n",
    "    name=\"année\",\n",
    "    bind=annee_slider,\n",
    "    value=df_pie['annais'].min()\n",
    ")\n",
    "\n",
    "base = alt.Chart(df_pie).transform_filter(\n",
    "    alt.datum.annais == annee_param\n",
    ").transform_window(\n",
    "    rank='rank(nombre)',\n",
    "    sort=[alt.SortField('nombre', order='descending')]\n",
    ").transform_calculate(\n",
    "    fin_affiche=\"datum.rank <= 10 ? datum.fin : 'autres'\"\n",
    ").transform_aggregate(\n",
    "    nombre='sum(nombre)',\n",
    "    groupby=['fin_affiche']\n",
    ").transform_window(\n",
    "    order_rank='rank(-datum.nombre)',\n",
    "    sort=[alt.SortField('nombre', order='descending')]\n",
    ").mark_arc().encode(\n",
    "    theta=alt.Theta(\"nombre:Q\", stack=True),\n",
    "    color=alt.Color(\n",
    "        \"fin_affiche:N\",\n",
    "        title=\"Terminaison\",\n",
    "        sort=alt.EncodingSortField(field=\"nombre\", op=\"sum\", order=\"descending\")\n",
    "    ),\n",
    "    tooltip=[\"fin_affiche:N\", \"nombre:Q\"]\n",
    ").add_params(\n",
    "    annee_param\n",
    ").properties(\n",
    "    title=\"Répartition des prénoms selon leur terminaison (top 10, autres regroupés)\"\n",
    ")\n",
    "base"
   ]
  }
 ],
 "metadata": {
  "kernelspec": {
   "display_name": ".venv",
   "language": "python",
   "name": "python3"
  },
  "language_info": {
   "codemirror_mode": {
    "name": "ipython",
    "version": 3
   },
   "file_extension": ".py",
   "mimetype": "text/x-python",
   "name": "python",
   "nbconvert_exporter": "python",
   "pygments_lexer": "ipython3",
   "version": "3.12.9"
  }
 },
 "nbformat": 4,
 "nbformat_minor": 5
}
