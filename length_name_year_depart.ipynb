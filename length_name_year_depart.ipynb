{
 "cells": [
  {
   "cell_type": "markdown",
   "metadata": {},
   "source": [
    "#### Attention:\n",
    "Ceci ne prend pas en compte les départements d'outre mer mais uniquement la métrople !! (je n'ai pas trouvé de carte fonctionnel)"
   ]
  },
  {
   "cell_type": "code",
   "execution_count": 171,
   "metadata": {},
   "outputs": [
    {
     "name": "stdout",
     "output_type": "stream",
     "text": [
      "Requirement already satisfied: altair in c:\\users\\josep\\appdata\\local\\programs\\python\\python311\\lib\\site-packages (5.5.0)\n",
      "Requirement already satisfied: jinja2 in c:\\users\\josep\\appdata\\local\\programs\\python\\python311\\lib\\site-packages (from altair) (3.1.5)\n",
      "Requirement already satisfied: jsonschema>=3.0 in c:\\users\\josep\\appdata\\local\\programs\\python\\python311\\lib\\site-packages (from altair) (4.23.0)\n",
      "Requirement already satisfied: narwhals>=1.14.2 in c:\\users\\josep\\appdata\\local\\programs\\python\\python311\\lib\\site-packages (from altair) (1.31.0)\n",
      "Requirement already satisfied: packaging in c:\\users\\josep\\appdata\\roaming\\python\\python311\\site-packages (from altair) (24.2)\n",
      "Requirement already satisfied: typing-extensions>=4.10.0 in c:\\users\\josep\\appdata\\roaming\\python\\python311\\site-packages (from altair) (4.12.2)\n",
      "Requirement already satisfied: attrs>=22.2.0 in c:\\users\\josep\\appdata\\local\\programs\\python\\python311\\lib\\site-packages (from jsonschema>=3.0->altair) (25.3.0)\n",
      "Requirement already satisfied: jsonschema-specifications>=2023.03.6 in c:\\users\\josep\\appdata\\local\\programs\\python\\python311\\lib\\site-packages (from jsonschema>=3.0->altair) (2025.4.1)\n",
      "Requirement already satisfied: referencing>=0.28.4 in c:\\users\\josep\\appdata\\local\\programs\\python\\python311\\lib\\site-packages (from jsonschema>=3.0->altair) (0.36.2)\n",
      "Requirement already satisfied: rpds-py>=0.7.1 in c:\\users\\josep\\appdata\\local\\programs\\python\\python311\\lib\\site-packages (from jsonschema>=3.0->altair) (0.24.0)\n",
      "Requirement already satisfied: MarkupSafe>=2.0 in c:\\users\\josep\\appdata\\local\\programs\\python\\python311\\lib\\site-packages (from jinja2->altair) (3.0.2)\n"
     ]
    },
    {
     "name": "stderr",
     "output_type": "stream",
     "text": [
      "\n",
      "[notice] A new release of pip is available: 24.0 -> 25.1.1\n",
      "[notice] To update, run: python.exe -m pip install --upgrade pip\n"
     ]
    },
    {
     "data": {
      "text/plain": [
       "DataTransformerRegistry.enable('json')"
      ]
     },
     "execution_count": 171,
     "metadata": {},
     "output_type": "execute_result"
    }
   ],
   "source": [
    "!pip install altair\n",
    "import altair as alt \n",
    "alt.data_transformers.enable('json')"
   ]
  },
  {
   "cell_type": "code",
   "execution_count": null,
   "metadata": {},
   "outputs": [],
   "source": [
    "# imports\n",
    "import pandas as pd\n",
    "# import matplotlib.pyplot as plt\n",
    "import plotly.graph_objs as go\n",
    "import numpy as np"
   ]
  },
  {
   "cell_type": "code",
   "execution_count": 140,
   "metadata": {},
   "outputs": [
    {
     "name": "stdout",
     "output_type": "stream",
     "text": [
      "'2A' présent ? False\n",
      "'2B' présent ? False\n"
     ]
    }
   ],
   "source": [
    "df = pd.read_csv(\"data/dpt2020.csv\", sep=\";\")\n",
    "\n",
    "# Vérifier si '2A' ou '2B' sont présents\n",
    "print(\"'2A' présent ?\", '2A' in df['dpt'].unique())\n",
    "print(\"'2B' présent ?\", '2B' in df['dpt'].unique())"
   ]
  },
  {
   "cell_type": "code",
   "execution_count": 141,
   "metadata": {},
   "outputs": [
    {
     "name": "stdout",
     "output_type": "stream",
     "text": [
      "Initial shape is (3727553, 5)\n",
      "int32\n",
      "Shape is now (3690309, 5)\n",
      "string\n",
      "Shape is now (3492154, 5)\n"
     ]
    }
   ],
   "source": [
    "print(f\"Initial shape is {df.shape}\")\n",
    "\n",
    "# supp years and dpt = XXXX and transform to int\n",
    "to_clean=['annais', 'dpt']\n",
    "for col in to_clean:\n",
    "    #df[col] = df[col].astype(str).str.strip()\n",
    "    \n",
    "    # Supprimer les lignes où la colonne n'est pas strictement numérique\n",
    "    df = df[df[col].str.isnumeric()]\n",
    "    \n",
    "    if col == 'annais':\n",
    "        df[col] = df[col].astype(int)\n",
    "        \n",
    "    else:\n",
    "    # Reforcer le type string natif (facultatif mais propre)\n",
    "        df[col] = df[col].astype(\"string\")\n",
    "        \n",
    "        ### Ce n'est pas supported par la carte que nous avons ###\n",
    "        # Transformation pour la corse => tout est transformé en 2A\n",
    "        df.loc[df['dpt'] == '20', 'dpt'] = '2A'\n",
    "        # Exclusion des DOM_TOM\n",
    "        df = df[~df['dpt'].isin(['971', '972', '973', '974'])]\n",
    "    print(df[col].dtype)\n",
    "    print(f\"Shape is now {df.shape}\")"
   ]
  },
  {
   "cell_type": "code",
   "execution_count": 144,
   "metadata": {},
   "outputs": [
    {
     "name": "stdout",
     "output_type": "stream",
     "text": [
      "Shape is now (3471072, 6)\n"
     ]
    }
   ],
   "source": [
    "# Supprimer les prénoms \"_PRENOMS_RARES\"\n",
    "df = df[df[\"preusuel\"] != \"_PRENOMS_RARES\"]\n",
    "# Ajouter une colonne de longueur de prénom\n",
    "df[\"longueur\"] = df[\"preusuel\"].str.len()\n",
    "# Supprimer les prénoms de longueur 1\n",
    "df = df[df[\"longueur\"] > 1]\n",
    "print(f\"Shape is now {df.shape}\")"
   ]
  },
  {
   "cell_type": "code",
   "execution_count": 145,
   "metadata": {},
   "outputs": [],
   "source": [
    "grouped = df.groupby(['annais', 'dpt', 'sexe', 'preusuel'], as_index=False)['nombre'].sum()\n",
    "top_names = grouped.sort_values('nombre', ascending=False).groupby(['annais', 'dpt', 'sexe']).first().reset_index()"
   ]
  },
  {
   "cell_type": "code",
   "execution_count": 146,
   "metadata": {},
   "outputs": [],
   "source": [
    "top_names = top_names.rename(columns={'preusuel': 'prenom'})"
   ]
  },
  {
   "cell_type": "code",
   "execution_count": 165,
   "metadata": {},
   "outputs": [],
   "source": [
    "top_names['dpt'] = top_names['dpt'].str.zfill(2)"
   ]
  },
  {
   "cell_type": "code",
   "execution_count": 152,
   "metadata": {},
   "outputs": [],
   "source": [
    "url = \"https://france-geojson.gregoiredavid.fr/repo/departements.geojson\"\n",
    "departements = alt.topo_feature(url, \"features\")"
   ]
  },
  {
   "cell_type": "code",
   "execution_count": 153,
   "metadata": {},
   "outputs": [
    {
     "name": "stdout",
     "output_type": "stream",
     "text": [
      "Codes présents dans GeoJSON mais absents de top_names : {'2B'}\n",
      "Codes présents dans top_names mais absents du GeoJSON : set()\n",
      "Correspondances exactes : 95 / 96\n"
     ]
    }
   ],
   "source": [
    "### TEST POUR LES CORRESPONDANCES DES DEPARTEMENTS ###\n",
    "\n",
    "import requests\n",
    "response = requests.get(url)\n",
    "geojson = response.json()\n",
    "\n",
    "# Extraire tous les codes de département du GeoJSON\n",
    "geojson_codes = {feature['properties']['code'] for feature in geojson['features']}\n",
    "\n",
    "# Extraire les codes du dataset\n",
    "top_names_codes = set(top_names['dpt'].unique())\n",
    "\n",
    "print(\"Codes présents dans GeoJSON mais absents de top_names :\", geojson_codes - top_names_codes)\n",
    "print(\"Codes présents dans top_names mais absents du GeoJSON :\", top_names_codes - geojson_codes)\n",
    "print(f\"Correspondances exactes : {len(geojson_codes & top_names_codes)} / {len(geojson_codes)}\")"
   ]
  },
  {
   "cell_type": "code",
   "execution_count": 162,
   "metadata": {},
   "outputs": [
    {
     "data": {
      "text/html": [
       "<div>\n",
       "<style scoped>\n",
       "    .dataframe tbody tr th:only-of-type {\n",
       "        vertical-align: middle;\n",
       "    }\n",
       "\n",
       "    .dataframe tbody tr th {\n",
       "        vertical-align: top;\n",
       "    }\n",
       "\n",
       "    .dataframe thead th {\n",
       "        text-align: right;\n",
       "    }\n",
       "</style>\n",
       "<table border=\"1\" class=\"dataframe\">\n",
       "  <thead>\n",
       "    <tr style=\"text-align: right;\">\n",
       "      <th></th>\n",
       "      <th>sexe</th>\n",
       "      <th>preusuel</th>\n",
       "      <th>annais</th>\n",
       "      <th>dpt</th>\n",
       "      <th>nombre</th>\n",
       "      <th>longueur</th>\n",
       "    </tr>\n",
       "  </thead>\n",
       "  <tbody>\n",
       "    <tr>\n",
       "      <th>10885</th>\n",
       "      <td>1</td>\n",
       "      <td>AADIL</td>\n",
       "      <td>1983</td>\n",
       "      <td>84</td>\n",
       "      <td>3</td>\n",
       "      <td>5</td>\n",
       "    </tr>\n",
       "    <tr>\n",
       "      <th>10886</th>\n",
       "      <td>1</td>\n",
       "      <td>AADIL</td>\n",
       "      <td>1992</td>\n",
       "      <td>92</td>\n",
       "      <td>3</td>\n",
       "      <td>5</td>\n",
       "    </tr>\n",
       "    <tr>\n",
       "      <th>10888</th>\n",
       "      <td>1</td>\n",
       "      <td>AAHIL</td>\n",
       "      <td>2016</td>\n",
       "      <td>95</td>\n",
       "      <td>3</td>\n",
       "      <td>5</td>\n",
       "    </tr>\n",
       "    <tr>\n",
       "      <th>10892</th>\n",
       "      <td>1</td>\n",
       "      <td>AARON</td>\n",
       "      <td>1962</td>\n",
       "      <td>75</td>\n",
       "      <td>3</td>\n",
       "      <td>5</td>\n",
       "    </tr>\n",
       "    <tr>\n",
       "      <th>10893</th>\n",
       "      <td>1</td>\n",
       "      <td>AARON</td>\n",
       "      <td>1976</td>\n",
       "      <td>75</td>\n",
       "      <td>3</td>\n",
       "      <td>5</td>\n",
       "    </tr>\n",
       "  </tbody>\n",
       "</table>\n",
       "</div>"
      ],
      "text/plain": [
       "       sexe preusuel  annais dpt  nombre  longueur\n",
       "10885     1    AADIL    1983  84       3         5\n",
       "10886     1    AADIL    1992  92       3         5\n",
       "10888     1    AAHIL    2016  95       3         5\n",
       "10892     1    AARON    1962  75       3         5\n",
       "10893     1    AARON    1976  75       3         5"
      ]
     },
     "execution_count": 162,
     "metadata": {},
     "output_type": "execute_result"
    }
   ],
   "source": [
    "df.head()"
   ]
  },
  {
   "cell_type": "code",
   "execution_count": 176,
   "metadata": {},
   "outputs": [
    {
     "data": {
      "text/plain": [
       "False"
      ]
     },
     "execution_count": 176,
     "metadata": {},
     "output_type": "execute_result"
    }
   ],
   "source": [
    "top_names.groupby('dpt').size().max() == 1"
   ]
  },
  {
   "cell_type": "code",
   "execution_count": null,
   "metadata": {},
   "outputs": [
    {
     "data": {
      "text/html": [
       "\n",
       "<style>\n",
       "  #altair-viz-797353a26b78443ea3aaa42da438e8f6.vega-embed {\n",
       "    width: 100%;\n",
       "    display: flex;\n",
       "  }\n",
       "\n",
       "  #altair-viz-797353a26b78443ea3aaa42da438e8f6.vega-embed details,\n",
       "  #altair-viz-797353a26b78443ea3aaa42da438e8f6.vega-embed details summary {\n",
       "    position: relative;\n",
       "  }\n",
       "</style>\n",
       "<div id=\"altair-viz-797353a26b78443ea3aaa42da438e8f6\"></div>\n",
       "<script type=\"text/javascript\">\n",
       "  var VEGA_DEBUG = (typeof VEGA_DEBUG == \"undefined\") ? {} : VEGA_DEBUG;\n",
       "  (function(spec, embedOpt){\n",
       "    let outputDiv = document.currentScript.previousElementSibling;\n",
       "    if (outputDiv.id !== \"altair-viz-797353a26b78443ea3aaa42da438e8f6\") {\n",
       "      outputDiv = document.getElementById(\"altair-viz-797353a26b78443ea3aaa42da438e8f6\");\n",
       "    }\n",
       "\n",
       "    const paths = {\n",
       "      \"vega\": \"https://cdn.jsdelivr.net/npm/vega@5?noext\",\n",
       "      \"vega-lib\": \"https://cdn.jsdelivr.net/npm/vega-lib?noext\",\n",
       "      \"vega-lite\": \"https://cdn.jsdelivr.net/npm/vega-lite@5.20.1?noext\",\n",
       "      \"vega-embed\": \"https://cdn.jsdelivr.net/npm/vega-embed@6?noext\",\n",
       "    };\n",
       "\n",
       "    function maybeLoadScript(lib, version) {\n",
       "      var key = `${lib.replace(\"-\", \"\")}_version`;\n",
       "      return (VEGA_DEBUG[key] == version) ?\n",
       "        Promise.resolve(paths[lib]) :\n",
       "        new Promise(function(resolve, reject) {\n",
       "          var s = document.createElement('script');\n",
       "          document.getElementsByTagName(\"head\")[0].appendChild(s);\n",
       "          s.async = true;\n",
       "          s.onload = () => {\n",
       "            VEGA_DEBUG[key] = version;\n",
       "            return resolve(paths[lib]);\n",
       "          };\n",
       "          s.onerror = () => reject(`Error loading script: ${paths[lib]}`);\n",
       "          s.src = paths[lib];\n",
       "        });\n",
       "    }\n",
       "\n",
       "    function showError(err) {\n",
       "      outputDiv.innerHTML = `<div class=\"error\" style=\"color:red;\">${err}</div>`;\n",
       "      throw err;\n",
       "    }\n",
       "\n",
       "    function displayChart(vegaEmbed) {\n",
       "      vegaEmbed(outputDiv, spec, embedOpt)\n",
       "        .catch(err => showError(`Javascript Error: ${err.message}<br>This usually means there's a typo in your chart specification. See the javascript console for the full traceback.`));\n",
       "    }\n",
       "\n",
       "    if(typeof define === \"function\" && define.amd) {\n",
       "      requirejs.config({paths});\n",
       "      let deps = [\"vega-embed\"];\n",
       "      require(deps, displayChart, err => showError(`Error loading script: ${err.message}`));\n",
       "    } else {\n",
       "      maybeLoadScript(\"vega\", \"5\")\n",
       "        .then(() => maybeLoadScript(\"vega-lite\", \"5.20.1\"))\n",
       "        .then(() => maybeLoadScript(\"vega-embed\", \"6\"))\n",
       "        .catch(showError)\n",
       "        .then(() => displayChart(vegaEmbed));\n",
       "    }\n",
       "  })({\"config\": {\"view\": {\"continuousWidth\": 300, \"continuousHeight\": 300}}, \"data\": {\"url\": \"https://france-geojson.gregoiredavid.fr/repo/departements.geojson\", \"format\": {\"property\": \"features\", \"type\": \"json\"}}, \"mark\": {\"type\": \"geoshape\", \"stroke\": \"black\", \"strokeWidth\": 0.5}, \"encoding\": {\"color\": {\"field\": \"prenom\", \"legend\": null, \"title\": \"Pr\\u00e9nom populaire\", \"type\": \"nominal\"}, \"tooltip\": [{\"field\": \"properties.nom\", \"title\": \"D\\u00e9partement\", \"type\": \"nominal\"}, {\"field\": \"prenom\", \"title\": \"Pr\\u00e9nom\", \"type\": \"nominal\"}]}, \"transform\": [{\"lookup\": \"properties.code\", \"from\": {\"data\": {\"url\": \"altair-data-85897ad5b90014975e9c525faf3109d2.json\", \"format\": {\"type\": \"json\"}}, \"key\": \"dpt\", \"fields\": [\"preusuel\"]}}], \"$schema\": \"https://vega.github.io/schema/vega-lite/v5.20.1.json\"}, {\"mode\": \"vega-lite\"});\n",
       "</script>"
      ],
      "text/plain": [
       "alt.Chart(...)"
      ]
     },
     "execution_count": 175,
     "metadata": {},
     "output_type": "execute_result"
    }
   ],
   "source": [
    "import altair as alt\n",
    "\n",
    "# Paramètre pour l'année (avec un slider)\n",
    "year_param = alt.param(\n",
    "    name=\"année\",\n",
    "    bind=alt.binding_range(\n",
    "        min=top_names['annais'].min(),\n",
    "        max=top_names['annais'].max(),\n",
    "        step=1,\n",
    "        name=\"Année :\"\n",
    "    ),\n",
    "    value=2000\n",
    ")\n",
    "\n",
    "# Paramètre pour le sexe\n",
    "gender_param = alt.param(\n",
    "    name=\"sexe\",\n",
    "    bind=alt.binding_radio(\n",
    "        options=['1', '2'],\n",
    "        labels=['♂ Homme', '♀ Femme'],\n",
    "        name=\"Sexe :\"\n",
    "    ),\n",
    "    value='1'\n",
    ")\n",
    "\n",
    "# Carte choroplèthe avec lookup + filtrage\n",
    "carte = alt.Chart(departements).mark_geoshape(\n",
    "    stroke='black',\n",
    "    strokeWidth=0.5\n",
    ").encode(\n",
    "    tooltip=[\n",
    "        alt.Tooltip('properties.nom:N', title='Département'),\n",
    "        alt.Tooltip('prenom:N', title='Prénom')\n",
    "    ],\n",
    "    color=alt.Color('prenom:N', title='Prénom populaire', legend=None)\n",
    ").transform_lookup(\n",
    "    lookup='properties.code',\n",
    "    from_=alt.LookupData(\n",
    "        top_names,\n",
    "        key='dpt',\n",
    "        fields=['preusuel'] # ['annais', 'sexe', 'preusuel']\n",
    "    )\n",
    ")\n",
    "\"\"\".transform_filter(\n",
    "    (alt.datum.annais == year_param) & (alt.datum.sexe == gender_param)\n",
    ")\n",
    ".project(\n",
    "    type='mercator'\n",
    ").add_params(\n",
    "    year_param,\n",
    "    gender_param\n",
    ").properties(\n",
    "    width=700,\n",
    "    height=600,\n",
    "    title='Carte interactive des prénoms les plus populaires par département'\n",
    ")\n",
    "\"\"\"\n",
    "\n",
    "carte\n"
   ]
  }
 ],
 "metadata": {
  "kernelspec": {
   "display_name": "Python 3",
   "language": "python",
   "name": "python3"
  },
  "language_info": {
   "codemirror_mode": {
    "name": "ipython",
    "version": 3
   },
   "file_extension": ".py",
   "mimetype": "text/x-python",
   "name": "python",
   "nbconvert_exporter": "python",
   "pygments_lexer": "ipython3",
   "version": "3.11.9"
  }
 },
 "nbformat": 4,
 "nbformat_minor": 2
}
